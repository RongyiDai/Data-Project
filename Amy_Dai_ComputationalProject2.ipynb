{
  "nbformat": 4,
  "nbformat_minor": 0,
  "metadata": {
    "colab": {
      "name": "Amy Dai - ComputationalProject2.ipynb",
      "version": "0.3.2",
      "provenance": [],
      "collapsed_sections": [],
      "include_colab_link": true
    },
    "kernelspec": {
      "name": "python3",
      "display_name": "Python 3"
    }
  },
  "cells": [
    {
      "cell_type": "markdown",
      "metadata": {
        "id": "view-in-github",
        "colab_type": "text"
      },
      "source": [
        "<a href=\"https://colab.research.google.com/github/RongyiDai/Data-Project/blob/master/Amy_Dai_ComputationalProject2.ipynb\" target=\"_parent\"><img src=\"https://colab.research.google.com/assets/colab-badge.svg\" alt=\"Open In Colab\"/></a>"
      ]
    },
    {
      "metadata": {
        "id": "vqXdyc6e2vbf",
        "colab_type": "text"
      },
      "cell_type": "markdown",
      "source": [
        "# Computational Project 2: Linear Regression\n",
        "\n",
        "In this project, our goals are \n",
        "+ to understand the linear algebra behind linear regression (projections; least squares)\n",
        "+ to apply linear regression to real datasets (large!)\n",
        "\n",
        "\n",
        "Please refer to the [Lecture 6 demonstration](https://colab.research.google.com/drive/15hcR--leZTtidWdZqDFJI8E6WwvLl_fB) for reference on matrix computation with python.\n",
        "\n",
        "This project is due on Friday April 12 at 9am EST."
      ]
    },
    {
      "metadata": {
        "id": "HokoYt5JA7DA",
        "colab_type": "text"
      },
      "cell_type": "markdown",
      "source": [
        "## Background\n",
        "\n",
        "Given an $m\\times n$ matrix $A$ and a vector $\\vec b \\in \\mathbb{R}^m$, the **Least Squares Problem** asks us to find a vector $\\widehat x$ such that $A \\widehat x$ is as close as possible to the $\\vec b$.   That is, to find a vector $\\widehat x$ that makes the square of the norm $\\lVert A \\widehat x - \\vec b \\rVert$ as small as possible.\n",
        "\n",
        "**Linear regression**---the problem of fitting a curve through a given set of data points---can be formulated as a least squares problem, by building the appropriate matrix $A$ and vector $\\vec b$ from the given data points and based on the desired model (line, curve, etc.).\n",
        "\n",
        "\n",
        "## Your Project\n",
        "\n",
        "This project has several parts:\n",
        "+ **Part 1: Warm-Up**\n",
        "\n",
        "   In this part, you will be given a small set of data points, similar to what we have worked with in class and in homework problems.  You will fit a line and a curve through these data points.  Instead of doing the matrix computations by hand, however, we will use python.\n",
        "   \n",
        "+ **Part 2: Larger Dataset**\n",
        "\n",
        "   In this part, you will work with a larger dataset.  Conceptually, this part will be identical to Part 2. The main difference is that you will have to work with much larger matrices and vectors.\n",
        "   \n",
        "+ **Part 3: Multivariate Linear Regression**\n",
        "\n",
        "  In this part, you will again work with a small set of data points.  However, instead of working with data that has one input (\"$x$\") and one output (\"$y$\"), we will work with \"multivariate data\": several inputs (\"$x_1, x_2, \\ldots, x_n$\") and one output (\"$y$\").\n"
      ]
    },
    {
      "metadata": {
        "id": "OXhial89Ob9R",
        "colab_type": "text"
      },
      "cell_type": "markdown",
      "source": [
        "### Part Zero: Setup\n",
        "\n",
        "We will need to use the packages `numpy` and `scipy`.  **In the code cell below, please import them as `np` and `sp`, respectively**.\n",
        "\n",
        "The package `matplotlib.pyplot` has been imported as `plt`; this package is used to plot curves, so that we can visualize our data and the curves we fit.  ***You do not need to know anything about how this package is used***; the code that plot the curves has already been written and do not need to be modified; you only need to complete the linear algebraic portions."
      ]
    },
    {
      "metadata": {
        "id": "SkzQi5auOaj4",
        "colab_type": "code",
        "colab": {}
      },
      "cell_type": "code",
      "source": [
        "import numpy as np\n",
        "import scipy as sp\n",
        "\n",
        "\n",
        "# Do not modify the code below the line \n",
        "#------------------------------------------------------- \n",
        "import pandas as pd\n",
        "import matplotlib.pyplot as plt\n",
        "from mpl_toolkits.mplot3d import Axes3D\n",
        "from matplotlib import cm\n",
        "from matplotlib.ticker import LinearLocator, FormatStrFormatter\n",
        "\n",
        "%matplotlib inline"
      ],
      "execution_count": 0,
      "outputs": []
    },
    {
      "metadata": {
        "id": "dml2o8N_F20j",
        "colab_type": "text"
      },
      "cell_type": "markdown",
      "source": [
        "### Part One: Warm-Up\n",
        "\n",
        "Linear regression is useful when we are trying to find the relationship between two variables.  For example, suppose that we would like to see if there is a relationship between height ($x$) and weight ($y$).\n",
        "\n",
        "Below is the height and weight of 5 individuals, where height is in centimeters and weight is in kilograms.\n",
        "\n",
        "<table>\n",
        "  <tr>\n",
        "    <th>Height ($x$)</th>\n",
        "    <th>Weight ($y$)</th>\n",
        "  </tr>\n",
        "  <tr>\n",
        "    <td>178</td>\n",
        "    <td>69</td>\n",
        "  </tr>\n",
        "  <tr>\n",
        "    <td>160</td>\n",
        "    <td>58</td>\n",
        "  </tr>\n",
        "  <tr>\n",
        "    <td>168</td>\n",
        "    <td>63</td>\n",
        "  </tr>\n",
        "  <tr>\n",
        "    <td>150</td>\n",
        "    <td>53</td>\n",
        "  </tr>\n",
        "  <tr>\n",
        "    <td>147</td>\n",
        "    <td>52</td>\n",
        "  </tr>\n",
        "</table>\n",
        "\n",
        "\n",
        "\n",
        "\n",
        "\n",
        "**Your Tasks**\n",
        "+ **Part 1A: Line of best fit**\n",
        "\n",
        "   The data points have been plotted, along with an example of a line through the data.  Your task is to find the line that would fit the data best.  The equation for this line would describe weight as a function of height.  (That is, we are using height to predict weight.)\n",
        "   \n",
        "   You can type in the matrix A and the vector b that you would be using the in the code cell for Part 1A below.\n",
        "  \n",
        "+ **Part 1B: Polynomial curve of best fit**\n",
        "\n",
        "   The data points have been plotted, along with an example of a parabolic curve through the data.  Your task is to find the polynomial curve that would fit the data best.\n",
        "   \n",
        "   You can type in the matrix A and the vector b that you would be using the in the code cell for Part 1B below.\n",
        "   \n",
        "\n",
        "+ **Part 1C: Interpretation**\n",
        "\n",
        "    You will be asked to comment on whether you think the line or the parabolic curve that you found describes well the relationship between the two variables.\n",
        "\n"
      ]
    },
    {
      "metadata": {
        "id": "cz71UIj7zK8O",
        "colab_type": "text"
      },
      "cell_type": "markdown",
      "source": [
        "#### Part 1A: Line of best fit"
      ]
    },
    {
      "metadata": {
        "id": "xCGCgVErvMxQ",
        "colab_type": "code",
        "outputId": "75598393-cfe3-42cd-f80d-c819c61d1218",
        "colab": {
          "base_uri": "https://localhost:8080/",
          "height": 319
        }
      },
      "cell_type": "code",
      "source": [
        "# Your code for Part 1 A: Line of best fit\n",
        "\n",
        "\n",
        "# Formulate A and b, then solve the least squares problem\n",
        "\n",
        "A = np.matrix([[1, 178], [1, 160], [1, 168], [1, 150], [1, 147]])\n",
        "b = np.matrix([[69], [58], [63], [53], [52]])\n",
        "x = (A.T * A).I * A.T * b\n",
        "e_1 = (np.linalg.norm(A*x - b)) ** 2\n",
        "print (x)\n",
        "print (e_1)\n",
        "\n",
        "\n",
        "\n",
        "# PLEASE UPDATE the value of c_0 and c_1 below based on the solution you obtained\n",
        "\n",
        "#  These current values below are just placeholders.\n",
        "#  As you change the values of c_0 and c_1, the line plotted below also changes.\n",
        "c_0 = -29.977 # y-intercept \n",
        "c_1 = 0.554 # slope\n",
        "\n",
        "\n",
        "# Do not modify the code below the line \n",
        "#-------------------------------------------------------\n",
        "# Visualizing the data and the regression line\n",
        "X = [178, 160, 168, 150, 147]\n",
        "Y = [69, 58, 63, 53, 52]\n",
        "t = np.arange(145, 180, 1)\n",
        "Y_line = c_1 * t + c_0\n",
        "plt.plot( X, Y, 'bo' )\n",
        "plt.plot( t, Y_line, 'r' )\n",
        "plt.show( )"
      ],
      "execution_count": 0,
      "outputs": [
        {
          "output_type": "stream",
          "text": [
            "[[-29.97710623]\n",
            " [  0.5540293 ]]\n",
            "0.8873626373626506\n"
          ],
          "name": "stdout"
        },
        {
          "output_type": "display_data",
          "data": {
            "image/png": "[encoded data removed]",
            "text/plain": [
              "<Figure size 432x288 with 1 Axes>"
            ]
          },
          "metadata": {
            "tags": []
          }
        }
      ]
    },
    {
      "metadata": {
        "id": "nhbxC5H5zPFP",
        "colab_type": "text"
      },
      "cell_type": "markdown",
      "source": [
        "#### Part 1B: Polynomial curve of best fit\n",
        "\n",
        "Please fit a polynomial curve through the same five points.  You can choose to fit a parabola ($y = c_2 x^2 + c_1x + c_0$) or other polynomial curves of higher degrees.  \n",
        "\n",
        "Since we only have 5 data points, you can choose to fit a polynomial of degree 2, 3, 4, or 5. \n"
      ]
    },
    {
      "metadata": {
        "id": "0NRuwgsEvVwn",
        "colab_type": "code",
        "outputId": "13a39632-1020-4dd6-f898-6f1d69227ff4",
        "colab": {
          "base_uri": "https://localhost:8080/",
          "height": 384
        }
      },
      "cell_type": "code",
      "source": [
        "# Your code for Part 1 B: Polynomial Curve of best fit\n",
        "\n",
        "# Formulate A and b, then solve the least squares problem\n",
        "\n",
        "A = np.matrix([[1, 178, 178**2, 178**3, 178**4, 178**5],[1, 160, 160**2, 160**3, 160**4, 160**5],[1, 168, 168**2, 168**3, 168**4, 168**5],[1, 150, 150**2, 150**3, 150**4, 150**5],[1, 147, 147**2, 147**3, 147**4, 147**5]])\n",
        "b = np.matrix([[69],[58],[63],[53],[52]])\n",
        "x = (A.T * A).I * A.T * b\n",
        "e_2 = (np.linalg.norm(A*x - b)) ** 2\n",
        "print (x)\n",
        "print (e_2)\n",
        "\n",
        "\n",
        "# PLEASE UPDATE the value of c_0 and c_1 below based on the solution you obtained\n",
        "\n",
        "#  These current values below are just placeholders.\n",
        "#  As you change the values of c_i's, the line plotted below also changes.\n",
        "#  If you are only fitting a polynomial of degree 2, then leave the coefficients\n",
        "#     of higher degree terms to be 0; etc.\n",
        "c_0 = 1.32540671e+03 # y-intercept \n",
        "c_1 = -2.39440272e+01 # coefficient of x term\n",
        "c_2 = 1.47071049e-01 # coefficient of x^2 term\n",
        "c_3 = -2.93305205e-04 # coefficient of x^3 term\n",
        "c_4 = 8.67111703e-17 # coefficient of x^4 term\n",
        "c_5 = 1.36581563e-19 # coefficient of x^5 term\n",
        "\n",
        "\n",
        "# Do not modify the code below the line \n",
        "#-------------------------------------------------------\n",
        "# Visualizing the data and the regression curve\n",
        "X = [177.80, 160.02, 167.64, 149.86, 147.32]\n",
        "Y = [69.30, 58.05, 62.55, 52.65, 51.75]\n",
        "t = np.arange(145, 180, 1)\n",
        "Y_line = c_5 * (t ** 5) + c_4 * (t ** 4) + c_3 * (t ** 3) + c_2 * (t ** 2) + c_1 * t + c_0\n",
        "Y_line = Y_line\n",
        "plt.plot( t, Y_line, 'r' )\n",
        "plt.plot( X, Y, 'bo' )\n",
        "plt.show( )"
      ],
      "execution_count": 0,
      "outputs": [
        {
          "output_type": "stream",
          "text": [
            "[[ 1.32540671e+03]\n",
            " [-2.39440272e+01]\n",
            " [ 1.47071049e-01]\n",
            " [-2.93305205e-04]\n",
            " [ 8.67111703e-17]\n",
            " [ 1.36581563e-19]]\n",
            "3.32806299881145e-05\n"
          ],
          "name": "stdout"
        },
        {
          "output_type": "display_data",
          "data": {
            "image/png": "[encoded data removed]",
            "text/plain": [
              "<Figure size 432x288 with 1 Axes>"
            ]
          },
          "metadata": {
            "tags": []
          }
        }
      ]
    },
    {
      "metadata": {
        "colab_type": "text",
        "id": "1CKDolaPRCsS"
      },
      "cell_type": "markdown",
      "source": [
        "#### Part 1C: Interpretation\n",
        "\n",
        "Please comment on the best fit line and parabolic curve that you found in Parts 1A and 1B:\n",
        "+ Does the line you found fit the data relatively well? \n",
        "+ Does the curve you found fit the data relatively well?\n",
        "+ Do you think that the line or the curve you found describes well the relationship between the two variables?"
      ]
    },
    {
      "metadata": {
        "colab_type": "text",
        "id": "EcSkKMuhRCsT"
      },
      "cell_type": "markdown",
      "source": [
        "As I printed out the error of the two graphs, e1 = 0.89, e2 = 0.000033, we can tell that the polynomial curve fits the data points much better. While the curve fits well, it doesn't mean that this particular curve best describes the general relationship between weight and height, because the sample size only contains five data points, it is for sure to have a curve with a degree of five to fit with almost no error. Therefore, the curve we generate might only fit for this sample, but cannot be generalized too a larger data size.\n"
      ]
    },
    {
      "metadata": {
        "id": "jKmtrb57F4Ha",
        "colab_type": "text"
      },
      "cell_type": "markdown",
      "source": [
        "### Part Two: A Larger Dataset\n",
        "\n",
        "The file http://bit.ly/2WqhQhd contains temperature data from 1880 to 2016 (137 data points).  Here, the temperature data has been \"normalized\" to take a value between -1 and 1.\n",
        "\n",
        "*(Source: The original data set is from https://datahub.io/core/global-temp)*\n",
        "\n",
        "\n",
        "\n",
        "**Your Tasks**\n",
        "+ **Part 2A: Importing the data**\n",
        "\n",
        "  Run the code cell without any modification.  This code cell simply gets python to get the dataset and store it, so that we can work with it.  Some explanation:\n",
        "  + The line of code that says `data.head(10)` tells python to display the first 10 points stored in the name 'data'.\n",
        "  \n",
        "    As you can see, there are two columns in this table, the 'Year' column and the 'Mean' column (which contains the mean global temperature of that year).\n",
        "  \n",
        "  + The vector called `year` is a column vector containing just the numbers in the 'Year' column.\n",
        "  + The vector called `temp` is a column vector containing just the numbers in the 'Mean' column.\n",
        "\n",
        "  You will work with these two vectors (`year` and `temp`).\n",
        "  \n",
        "+ **Part 2B: Line of best fit**\n",
        "\n",
        "   The data points have been plotted, along with an example of a line through the data.  Your task is to find the line that would fit the data best.\n",
        "   \n",
        "   Conceptually, the work that you will do in this part is identical to what you did in Part 1A.  However, in Part 1A, we only had a very small dataset, which means that you could specify the entries of the matrix $A$ and the vector $\\vec b$ by hand.\n",
        "   \n",
        "   In this part, however, we have 137 data points, which means that typing in the entries of the matrix / vector by hand might be tedious.\n",
        "   \n",
        "   Luckily, we have two vectors that helps us get started: the vector `year` and `temp`.  You can use these vectors to help specify the matrix $A$ and the vector $\\vec b$.\n",
        "   \n",
        "   Please see the [Lecture 6 demonstration](https://colab.research.google.com/drive/15hcR--leZTtidWdZqDFJI8E6WwvLl_fB) Jupyter notebook for reference.\n",
        "\n",
        "+ **Part 2C: Interpretation**\n",
        "\n",
        "    You will be asked to comment on whether you think that global temperature has indeed change linearly with time.  (That is, comment whether it even makes sense to try to fit a line through these data points.  Should we have fitted some other types of curve)"
      ]
    },
    {
      "metadata": {
        "id": "cQ1i_DL7ziUF",
        "colab_type": "text"
      },
      "cell_type": "markdown",
      "source": [
        "#### Part 2A: Importing the data"
      ]
    },
    {
      "metadata": {
        "id": "EH4JqrmmzgFa",
        "colab_type": "code",
        "colab": {}
      },
      "cell_type": "code",
      "source": [
        "# Part 2A: Importing the data\n",
        "\n",
        "# You do not need to change anything in this code cell.  Simply run the cell.\n",
        "# Download the data and storing it in a \"data frame\" (a table) called 'data'\n",
        "data = pd.read_csv('http://bit.ly/2WqhQhd')\n",
        "\n",
        "# Take a peek at the first 10 data points:\n",
        "data.head( 10 )\n",
        "\n",
        "# Store the Year column in a column vector called 'year'\n",
        "year = np.matrix(data['Year']).T\n",
        "\n",
        "# Store the Mean column in a column vector called 'temp'\n",
        "temp = np.matrix(data['Mean']).T\n",
        "\n"
      ],
      "execution_count": 0,
      "outputs": []
    },
    {
      "metadata": {
        "id": "CBj9220RzgTv",
        "colab_type": "text"
      },
      "cell_type": "markdown",
      "source": [
        "#### Part 2B: Line of best fit"
      ]
    },
    {
      "metadata": {
        "id": "RxMRQJftGDlY",
        "colab_type": "code",
        "outputId": "6b69ffac-3e4c-43cd-c031-7d2672abdda6",
        "colab": {
          "base_uri": "https://localhost:8080/",
          "height": 316
        }
      },
      "cell_type": "code",
      "source": [
        "# Part 2B: Line of best fit\n",
        "\n",
        "\n",
        "\n",
        "# Formulate A and b, then solve the least squares problem\n",
        "all_ones = np.ones([137, 1])\n",
        "#year_2 = np.power(year, 2)\n",
        "A = np.column_stack((all_ones, year))\n",
        "b = temp\n",
        "x = (A.T * A).I * A.T * b\n",
        "e_3 = (np.linalg.norm(A*x - b)) ** 2\n",
        "print (x)\n",
        "print (e_3)\n",
        "\n",
        "\n",
        "# PLEASE UPDATE the value of c_0 and c_1 below based on the solution you obtained\n",
        "\n",
        "#  These current values below are just placeholders.\n",
        "#  As you change the values of c_0 and c_1, the line plotted below also changes.\n",
        "c_0 = x[0,0] # y-intercept \n",
        "c_1 = x[1,0] # slope\n",
        "\n",
        "\n",
        "\n",
        "# Do not modify the code below the line \n",
        "#-------------------------------------------------------\n",
        "# Visualizing the data and the regression line\n",
        "X = [1, 2, 3, 4]\n",
        "Y = [2, 4, 5, 6]\n",
        "t = np.arange(1870, 2025, 0.1)\n",
        "Y_line = c_1 * t + c_0\n",
        "plt.plot( year, temp, 'bo' )\n",
        "plt.plot( t, Y_line, 'r' )\n",
        "plt.show( )"
      ],
      "execution_count": 0,
      "outputs": [
        {
          "output_type": "stream",
          "text": [
            "[[-1.39124009e+01]\n",
            " [ 7.15440476e-03]]\n",
            "3.5855559355573416\n"
          ],
          "name": "stdout"
        },
        {
          "output_type": "display_data",
          "data": {
            "image/png": "[encoded data removed]",
            "text/plain": [
              "<Figure size 432x288 with 1 Axes>"
            ]
          },
          "metadata": {
            "tags": []
          }
        }
      ]
    },
    {
      "metadata": {
        "id": "7rh6Mf6MPBW_",
        "colab_type": "text"
      },
      "cell_type": "markdown",
      "source": [
        "#### Part 2C: Interpretation\n",
        "\n",
        "Please comment on the best fit line that you found in Part 2B:\n",
        "+ Does the line you found fit the data relatively well?\n",
        "+ Do you think that global temperature has indeed change linearly with time?  That is, do you think that a line accurately describes how global temperature changes with respect to time?  Should we have fitted some other type of curve?"
      ]
    },
    {
      "metadata": {
        "id": "hmPJMTLwNGVg",
        "colab_type": "text"
      },
      "cell_type": "markdown",
      "source": [
        "This line as shown on the graph doesn't show the data well because it barely passes through any points or predict the value of the temperature, and it yields a relatively high error - 3.59. I don't think that global temperature has indeed changed linearly with time, because the data points show a shape of a curve. May be after modifying the x values, we can try fitting polynomial curve or exponential curve to see what happens. \n"
      ]
    },
    {
      "metadata": {
        "id": "nsOLOscFGDyo",
        "colab_type": "text"
      },
      "cell_type": "markdown",
      "source": [
        "### Part Three: Multivariate Linear Regression\n",
        "\n",
        "Sometimes, we are interested in seeing how several input variables ($x_1, x_2, \\ldots, x_n$) are related to the value of an output variable ($y$).\n",
        "\n",
        "For example:\n",
        "+ We might be interested in examining how crime rate ($y$) in a community is related to median income ($x_1$) and unemployment rate ($x_2$) in that community.\n",
        "+ We might be interested in examining how popular a social media post is (let's say $y$ = number of retweets) as a function of the length of the post ($x_1$), the number of followers of that account ($x_2$), the frequency of positive-sentiment words used on that post ($x_3$), and the frequency of negative-sentiment words used on that post ($x_4$).\n",
        "\n",
        "\n",
        "Below is a small dataset with two input variables ($x_1, x_2$) and one output variable ($y$) that we will work with.\n",
        "\n",
        "<table>\n",
        "  <tr>\n",
        "    <th>$x_1$</th>\n",
        "    <th>$x_2$</th>\n",
        "    <th>$y$</th>\n",
        "  </tr>\n",
        "  <tr>\n",
        "    <td>3</td>\n",
        "    <td>2</td>\n",
        "    <td>5</td>\n",
        "  </tr>\n",
        "  <tr>\n",
        "    <td>-1</td>\n",
        "    <td>-2</td>\n",
        "    <td>0</td>\n",
        "  </tr>\n",
        "  <tr>\n",
        "    <td>-2</td>\n",
        "    <td>5</td>\n",
        "    <td>7</td>\n",
        "  </tr>\n",
        "  <tr>\n",
        "    <td>4</td>\n",
        "    <td>-5</td>\n",
        "    <td>3</td>\n",
        "  </tr>\n",
        "  <tr>\n",
        "    <td>-5</td>\n",
        "    <td>1</td>\n",
        "    <td>-2</td>\n",
        "  </tr>\n",
        "</table>\n",
        "\n",
        "\n",
        "\n",
        "\n",
        "\n",
        "**Your Tasks**\n",
        "+ **Part 3A: Plane of best fit**\n",
        "\n",
        "   Find the coefficients $c_1$ and $c_2$ for the plane $y = c_1 x_1 + c_2 x_2$ that best fits the small dataset above\n",
        "  \n",
        "+ **Part 3B: Interpretation**\n",
        "\n",
        "    Interpret your results\n"
      ]
    },
    {
      "metadata": {
        "id": "8rmBq5m2GUPZ",
        "colab_type": "code",
        "outputId": "d856b07d-db93-4c31-e0e5-a2dc7dcdbb01",
        "colab": {
          "base_uri": "https://localhost:8080/",
          "height": 299
        }
      },
      "cell_type": "code",
      "source": [
        "# Part 3: Multivariate Linear Regression\n",
        "\n",
        "\n",
        "\n",
        "# Formulate A and b, then solve the least squares problem\n",
        "\n",
        "A = np.matrix([[1,3,2],[1,-1,-2],[1,-2,5],[1,4,-5],[1,-5,1]])\n",
        "b = np.matrix([[5],[0],[7],[3],[-2]])\n",
        "x = x = (A.T * A).I * A.T * b\n",
        "print (x)\n",
        "\n",
        "\n",
        "# PLEASE UPDATE the value of c_0 and c_1 below based on the solution you obtained\n",
        "\n",
        "#  These current values below are just placeholders.\n",
        "#  As you change the values of c_0 and c_1, the line plotted below also changes.\n",
        "c_0 = x[0,0] # the constant term\n",
        "c_1 = x[1,0] # the coefficient for the x_1 term\n",
        "c_2 = x[2,0] # the coefficient for the x_2 term\n",
        "\n",
        "\n",
        "# Do not modify the code below the line \n",
        "#-------------------------------------------------------\n",
        "# Visualizing the data and the regression line\n",
        "fig = plt.figure()\n",
        "ax = fig.gca(projection='3d')\n",
        "\n",
        "# plot points\n",
        "points = ax.scatter([1, 2, 3], [0, 3, -1], [4, 2, 1], c = 'r')\n",
        "\n",
        "# plot the surface\n",
        "X_1 = np.arange(-5, 5, 0.25)\n",
        "X_2 = np.arange(-5, 5, 0.25)\n",
        "X_1, X_2 = np.meshgrid(X_1, X_2)\n",
        "X_3 = c_0 + c_1 * X_1 + c_2 * X_2\n",
        "surf = ax.plot_wireframe(X_1, X_2, X_3)\n",
        "\n",
        "\n",
        "plt.show()"
      ],
      "execution_count": 0,
      "outputs": [
        {
          "output_type": "stream",
          "text": [
            "[[2.6086262 ]\n",
            " [0.87300319]\n",
            " [0.8298722 ]]\n"
          ],
          "name": "stdout"
        },
        {
          "output_type": "display_data",
          "data": {
            "image/png": "[encoded data removed]",
            "text/plain": [
              "<Figure size 432x288 with 1 Axes>"
            ]
          },
          "metadata": {
            "tags": []
          }
        }
      ]
    },
    {
      "metadata": {
        "id": "Dy-f2WRxPLz2",
        "colab_type": "text"
      },
      "cell_type": "markdown",
      "source": [
        "The plane with the equation y = 2.61 + 0.87x_1 + 0.83x_2 best fits the small given dataset. And since the coefficients of two independent variables are positive, y value increases as x_1 and x_2 increase.\n"
      ]
    },
    {
      "metadata": {
        "id": "Elp8eY7oVrY_",
        "colab_type": "text"
      },
      "cell_type": "markdown",
      "source": [
        "## Reflections\n",
        "\n",
        "Please briefly write:\n",
        "1. One new thing that you learn from this project\n",
        "2. One aspect of this project that you found most interesting OR most challenging OR both.\n",
        "3. If you discuss any part of the project with anyone ( classmate(s), tutor(s), etc.), please ackowledge them here."
      ]
    },
    {
      "metadata": {
        "id": "7XbFgYjRWL3v",
        "colab_type": "text"
      },
      "cell_type": "markdown",
      "source": [
        "1. New things I learned from this project include getting the concept of doing multivariate linear regression.  Also, technicalwise, how to type out a matrix more smartly\n",
        "\n",
        "2. One aspect that I found to be interesting is that in Part 2: we are modeling the relationship between time and the global temperature, and we are using the year as the independent variable. However, I'm wondering whether the number of year itself should be incorporated into the equation, because numbers such as \"1880\", \"2000\" does not seem to be related numerically with the temperature. (Also, when I try to fit the data with a polynomial equation, the curve becomes really off from the data point.)Therefore, I'm thinking about should we instead use numbers that represent a period of time? For example starting from 1880, t = 0, and then in 2000, t = 120. "
      ]
    }
  ]
}